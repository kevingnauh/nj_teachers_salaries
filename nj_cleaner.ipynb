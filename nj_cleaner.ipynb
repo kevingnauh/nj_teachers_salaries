{
 "cells": [
  {
   "cell_type": "code",
   "execution_count": 2,
   "metadata": {},
   "outputs": [],
   "source": [
    "import pandas as pd\n",
    "import numpy as np\n",
    "import mysql.connector as sq"
   ]
  },
  {
   "cell_type": "code",
   "execution_count": 3,
   "metadata": {},
   "outputs": [],
   "source": [
    "# Read file\n",
    "df = pd.read_csv(\"C:/ProgramData/MySQL/MySQL Server 8.0/Uploads/nj_state_teachers_salaries.csv\", \n",
    "                 dtype={ 'fte': 'str','experience_district': 'str', 'experience_nj': 'str', 'experience_total': 'str'})\n",
    "# 'fte': 'str',\n",
    "# # Drop rows that are blank in column first_name\n",
    "# df.dropna(subset=['first_name'], inplace=True)\n",
    "\n",
    "# Drop blank rows\n",
    "df.dropna(how=\"all\", inplace = True)"
   ]
  },
  {
   "cell_type": "code",
   "execution_count": 4,
   "metadata": {},
   "outputs": [],
   "source": [
    "# Remove leading and trailing space\n",
    "df = df.apply(lambda x: x.str.strip() if x.dtype == \"object\" else x)"
   ]
  },
  {
   "cell_type": "code",
   "execution_count": 29,
   "metadata": {},
   "outputs": [],
   "source": [
    "# Change all invalid values to NaN\n",
    "df['fte'] = df['fte'].replace('[$?]',np.NaN, regex=True)\n",
    "df['experience_district'] = df['experience_district'].replace('[^0-9]',np.NaN, regex=True)\n",
    "df['experience_nj'] = df['experience_nj'].replace('[^0-9]',np.NaN, regex=True)\n",
    "df['experience_total'] = df['experience_total'].replace('[^0-9]',np.NaN, regex=True)\n"
   ]
  },
  {
   "cell_type": "code",
   "execution_count": 30,
   "metadata": {},
   "outputs": [],
   "source": [
    "df.dropna(inplace=True)"
   ]
  },
  {
   "cell_type": "code",
   "execution_count": 31,
   "metadata": {},
   "outputs": [],
   "source": [
    "# Export to csv\n",
    "df.to_csv(\"C:/ProgramData/MySQL/MySQL Server 8.0/Uploads/nj_clean.csv\", index=False)"
   ]
  },
  {
   "cell_type": "code",
   "execution_count": 3,
   "metadata": {},
   "outputs": [],
   "source": [
    "# Connect to sql database\n",
    "mydb=sq.connect(host=\"localhost\", user=\"\", passwd=\"\", buffered=True)"
   ]
  },
  {
   "cell_type": "code",
   "execution_count": 4,
   "metadata": {},
   "outputs": [],
   "source": [
    "# Set up cursor object\n",
    "mycursor = mydb.cursor()"
   ]
  },
  {
   "cell_type": "code",
   "execution_count": 5,
   "metadata": {},
   "outputs": [],
   "source": [
    "# Drop database if currently exists\n",
    "sql = \"DROP DATABASE IF EXISTS nj_state_teachers_salaries\"\n",
    "mycursor.execute(sql)"
   ]
  },
  {
   "cell_type": "code",
   "execution_count": 6,
   "metadata": {},
   "outputs": [],
   "source": [
    "# Create database\n",
    "mycursor.execute(\"CREATE SCHEMA nj_state_teachers_salaries\")"
   ]
  },
  {
   "cell_type": "code",
   "execution_count": 7,
   "metadata": {},
   "outputs": [],
   "source": [
    "# Create table\n",
    "mycursor.execute(\"CREATE TABLE nj_state_teachers_salaries.nj_state_teachers_salaries (last_name text, first_name text, county text, district text, school text, primary_job text, fte double, salary double, certificate text, subcategory text, teaching_route text, highly_qualified text, experience_district int, experience_nj int, experience_total int)\")"
   ]
  },
  {
   "cell_type": "code",
   "execution_count": 11,
   "metadata": {},
   "outputs": [],
   "source": [
    "SQLCMD = \"LOAD DATA INFILE 'C:/ProgramData/MySQL/MySQL Server 8.0/Uploads/nj_clean.csv' \\\n",
    "INTO TABLE nj_state_teachers_salaries.nj_state_teachers_salaries FIELDS TERMINATED BY ',' ENCLOSED BY '\\\"' ESCAPED BY '' LINES TERMINATED BY '\\\\n' IGNORE 1 ROWS \"\n",
    "mycursor.execute(SQLCMD)"
   ]
  },
  {
   "cell_type": "code",
   "execution_count": null,
   "metadata": {},
   "outputs": [],
   "source": []
  }
 ],
 "metadata": {
  "kernelspec": {
   "display_name": "Python 3",
   "language": "python",
   "name": "python3"
  },
  "language_info": {
   "codemirror_mode": {
    "name": "ipython",
    "version": 3
   },
   "file_extension": ".py",
   "mimetype": "text/x-python",
   "name": "python",
   "nbconvert_exporter": "python",
   "pygments_lexer": "ipython3",
   "version": "3.8.0"
  },
  "vscode": {
   "interpreter": {
    "hash": "f5ff168696553f3e2cb115c273c46eeb315c32b0d0536992c4bad2740a7f9469"
   }
  }
 },
 "nbformat": 4,
 "nbformat_minor": 4
}
